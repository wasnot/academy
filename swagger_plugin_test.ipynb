{
 "cells": [
  {
   "cell_type": "code",
   "execution_count": 1,
   "metadata": {
    "collapsed": true
   },
   "outputs": [],
   "source": [
    "import inspect"
   ]
  },
  {
   "cell_type": "code",
   "execution_count": 48,
   "metadata": {
    "collapsed": false
   },
   "outputs": [],
   "source": [
    "def user_required(handler):\n",
    "    \"\"\"\n",
    "         Decorator for checking if there's a user associated with the current session.\n",
    "         Will also fail if there's no session present.\n",
    "    \"\"\"\n",
    "\n",
    "    def check_login(self, *args, **kwargs):\n",
    "        if not self.auth.get_user_by_session():\n",
    "            if isinstance(self, JsonMixin):\n",
    "                self.write_json_response(self.make_error_response(code=403, msg='not authorized'))\n",
    "                return\n",
    "            else:\n",
    "                self.error(403)\n",
    "                self.response.write('not authorized')\n",
    "                return\n",
    "        else:\n",
    "            return handler(self, *args, **kwargs)\n",
    "\n",
    "    return check_login\n",
    "\n",
    "class HelloHandler(object):\n",
    "    @user_required\n",
    "    def get(self, test, *args, **kwargs):\n",
    "        \"\"\"Get a greeting endpoint.\n",
    "        ---\n",
    "        description: Get a greeting\n",
    "        responses:\n",
    "            200:\n",
    "                description: A greeting to the client\n",
    "                schema:\n",
    "                    $ref: '#/definitions/Greeting'\n",
    "        \"\"\"\n",
    "        self.response.write(\"hello\")\n",
    "    def post(self, test):\n",
    "        \"\"\"Get a greeting endpoint.\n",
    "        ---\n",
    "        description: Get a greeting\n",
    "        responses:\n",
    "            200:\n",
    "                description: A greeting to the client\n",
    "                schema:\n",
    "                    $ref: '#/definitions/Greeting'\n",
    "        \"\"\"\n",
    "        self.response.write(\"hello\")\n",
    "c = HelloHandler"
   ]
  },
  {
   "cell_type": "code",
   "execution_count": 50,
   "metadata": {
    "collapsed": false
   },
   "outputs": [
    {
     "data": {
      "text/plain": [
       "['test']"
      ]
     },
     "execution_count": 50,
     "metadata": {},
     "output_type": "execute_result"
    }
   ],
   "source": [
    "[k for k, v in inspect.signature(extract_wrapped(getattr(c, 'get'))).parameters.items() if v.kind not in [v.VAR_KEYWORD, v.VAR_POSITIONAL]][1:]"
   ]
  },
  {
   "cell_type": "code",
   "execution_count": 21,
   "metadata": {
    "collapsed": false
   },
   "outputs": [
    {
     "data": {
      "text/plain": [
       "['test', 'args', 'kwargs']"
      ]
     },
     "execution_count": 21,
     "metadata": {},
     "output_type": "execute_result"
    }
   ],
   "source": [
    "list(inspect.signature(extract_wrapped(getattr(c, 'get'))).parameters.keys())[1:]"
   ]
  },
  {
   "cell_type": "code",
   "execution_count": 11,
   "metadata": {
    "collapsed": false
   },
   "outputs": [
    {
     "ename": "AttributeError",
     "evalue": "'cell' object has no attribute '__closure__'",
     "output_type": "error",
     "traceback": [
      "\u001b[0;31m---------------------------------------------------------------------------\u001b[0m",
      "\u001b[0;31mAttributeError\u001b[0m                            Traceback (most recent call last)",
      "\u001b[0;32m<ipython-input-11-4976a2aeb42b>\u001b[0m in \u001b[0;36m<module>\u001b[0;34m()\u001b[0m\n\u001b[0;32m----> 1\u001b[0;31m \u001b[0mc\u001b[0m\u001b[0;34m.\u001b[0m\u001b[0mget\u001b[0m\u001b[0;34m.\u001b[0m\u001b[0m__closure__\u001b[0m\u001b[0;34m[\u001b[0m\u001b[0;36m0\u001b[0m\u001b[0;34m]\u001b[0m\u001b[0;34m.\u001b[0m\u001b[0m__closure__\u001b[0m\u001b[0;34m\u001b[0m\u001b[0m\n\u001b[0m",
      "\u001b[0;31mAttributeError\u001b[0m: 'cell' object has no attribute '__closure__'"
     ]
    }
   ],
   "source": [
    "c.get.__closure__[0].__closure__"
   ]
  },
  {
   "cell_type": "code",
   "execution_count": 12,
   "metadata": {
    "collapsed": true
   },
   "outputs": [],
   "source": [
    "from types import FunctionType\n",
    "\n",
    "def extract_wrapped(decorated):\n",
    "    if decorated is None or decorated.__closure__ is None:\n",
    "        return decorated\n",
    "    closure = (c.cell_contents for c in decorated.__closure__)\n",
    "    return extract_wrapped(next((c for c in closure if isinstance(c, FunctionType)), None))"
   ]
  },
  {
   "cell_type": "code",
   "execution_count": 14,
   "metadata": {
    "collapsed": false
   },
   "outputs": [
    {
     "data": {
      "text/plain": [
       "<function __main__.HelloHandler.post>"
      ]
     },
     "execution_count": 14,
     "metadata": {},
     "output_type": "execute_result"
    }
   ],
   "source": [
    "extract_wrapped(c.post)"
   ]
  },
  {
   "cell_type": "code",
   "execution_count": null,
   "metadata": {
    "collapsed": true
   },
   "outputs": [],
   "source": []
  }
 ],
 "metadata": {
  "kernelspec": {
   "display_name": "Python 3",
   "language": "python",
   "name": "python3"
  },
  "language_info": {
   "codemirror_mode": {
    "name": "ipython",
    "version": 3
   },
   "file_extension": ".py",
   "mimetype": "text/x-python",
   "name": "python",
   "nbconvert_exporter": "python",
   "pygments_lexer": "ipython3",
   "version": "3.6.0"
  }
 },
 "nbformat": 4,
 "nbformat_minor": 2
}
